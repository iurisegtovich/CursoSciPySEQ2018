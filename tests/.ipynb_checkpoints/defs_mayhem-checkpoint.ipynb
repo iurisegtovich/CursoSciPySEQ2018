{
 "cells": [
  {
   "cell_type": "code",
   "execution_count": 23,
   "metadata": {},
   "outputs": [
    {
     "name": "stdout",
     "output_type": "stream",
     "text": [
      "oi\n"
     ]
    }
   ],
   "source": [
    "%reset -f\n",
    "def diga_oi():\n",
    "    print(\"oi\")\n",
    "        \n",
    "diga_oi()"
   ]
  },
  {
   "cell_type": "code",
   "execution_count": 24,
   "metadata": {},
   "outputs": [
    {
     "name": "stdout",
     "output_type": "stream",
     "text": [
      "x é 1\n"
     ]
    }
   ],
   "source": [
    "%reset -f\n",
    "x=1\n",
    "\n",
    "def leia_x():\n",
    "    print(\"x é\", x)\n",
    "        \n",
    "leia_x()"
   ]
  },
  {
   "cell_type": "code",
   "execution_count": 31,
   "metadata": {},
   "outputs": [
    {
     "name": "stdout",
     "output_type": "stream",
     "text": [
      "{'variaveis_padrao', 'x'}\n",
      "x do namespace externo é 1\n",
      "x do namespace interno é 2\n",
      "{'x', 'y'}\n",
      "x do namespace externo ainda é 1\n",
      "{'definir_um_x_local', 'variaveis_padrao', 'x'}\n"
     ]
    }
   ],
   "source": [
    "%reset -f\n",
    "nomes_padrao=set(dir())\n",
    "x=1\n",
    "print(\"nomes no namepace externo\", set(dir())-nomes_padrao)\n",
    "def definir_um_x_local():\n",
    "    y=3 #definindo um nome y, localmente\n",
    "    x=2 #definindo um nome x, localmente\n",
    "    print(\"x do namespace interno é\", x)\n",
    "    print(\"nomes no namepace interno\",set(dir())-nomes_padrao)\n",
    "        \n",
    "print(\"x do namespace externo é\", x)\n",
    "definir_um_x_local()\n",
    "print(\"x do namespace externo ainda é\", x)\n",
    "print(\"nomes no namepace externo\",set(dir())-nomes_padrao)"
   ]
  },
  {
   "cell_type": "code",
   "execution_count": 26,
   "metadata": {},
   "outputs": [
    {
     "name": "stdout",
     "output_type": "stream",
     "text": [
      "x do namespace externo é 1\n",
      "x do namespace externo é 1\n",
      "x do namespace externo é 2\n",
      "x do namespace externo é 2\n"
     ]
    }
   ],
   "source": [
    "%reset -f\n",
    "x=1\n",
    "\n",
    "def mude_x():\n",
    "    global x\n",
    "    print(\"x do namespace externo é\", x)\n",
    "    print(\"x é\", x)\n",
    "    print(dir())\n",
    "    \n",
    "print(\"x do namespace externo é\", x)    \n",
    "mude_x()\n",
    "print(\"x do namespace externo é\", x)"
   ]
  },
  {
   "cell_type": "code",
   "execution_count": null,
   "metadata": {},
   "outputs": [],
   "source": []
  }
 ],
 "metadata": {
  "kernelspec": {
   "display_name": "Python [default]",
   "language": "python",
   "name": "python3"
  },
  "language_info": {
   "codemirror_mode": {
    "name": "ipython",
    "version": 3
   },
   "file_extension": ".py",
   "mimetype": "text/x-python",
   "name": "python",
   "nbconvert_exporter": "python",
   "pygments_lexer": "ipython3",
   "version": "3.6.3"
  }
 },
 "nbformat": 4,
 "nbformat_minor": 2
}
