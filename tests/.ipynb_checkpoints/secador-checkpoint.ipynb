{
 "cells": [
  {
   "cell_type": "code",
   "execution_count": 8,
   "metadata": {},
   "outputs": [
    {
     "name": "stdout",
     "output_type": "stream",
     "text": [
      "P, W, Rec %\n",
      "83.33333333333334 16.666666666666664 83.33333333333333\n"
     ]
    }
   ],
   "source": [
    "def CalcRecSecador(xfs,xfw,xps,xpw):\n",
    "    #base de cálculo\n",
    "    F=100\n",
    "    #bm sólido\n",
    "    P=100*xfs/xps\n",
    "    W=F*xfw-P*xpw\n",
    "    Rec=W/(F*xfw)*100\n",
    "    return P,W,Rec\n",
    "\n",
    "P, W, Rec = CalcRecSecador(.8,.2,.96,.04)\n",
    "\n",
    "print(\"P, W, Rec %\")\n",
    "print(P, W, Rec)"
   ]
  }
 ],
 "metadata": {
  "kernelspec": {
   "display_name": "Python [default]",
   "language": "python",
   "name": "python3"
  },
  "language_info": {
   "codemirror_mode": {
    "name": "ipython",
    "version": 3
   },
   "file_extension": ".py",
   "mimetype": "text/x-python",
   "name": "python",
   "nbconvert_exporter": "python",
   "pygments_lexer": "ipython3",
   "version": "3.6.3"
  }
 },
 "nbformat": 4,
 "nbformat_minor": 2
}
