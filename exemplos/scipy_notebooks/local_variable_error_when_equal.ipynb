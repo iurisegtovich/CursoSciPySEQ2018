{
 "cells": [
  {
   "cell_type": "code",
   "execution_count": 50,
   "metadata": {},
   "outputs": [
    {
     "name": "stdout",
     "output_type": "stream",
     "text": [
      "a_externo= 10\n",
      "a_local= 11\n",
      "eval(a_local)= 11\n",
      "a_externo= 10\n",
      "a_externo= 10\n",
      "a_externo= 10\n",
      "a_local= 11\n",
      "a_externo= 10\n",
      "a_externo= 10\n"
     ]
    }
   ],
   "source": [
    "%reset -f\n",
    "a=10\n",
    "\n",
    "def f1():\n",
    "    a=a+1 #calls add\n",
    "    print(\"a_local=\",a)\n",
    "#f1() local variable 'a' referenced before assignment\n",
    "print(\"a_externo=\",a)\n",
    "\n",
    "def f1_eval():\n",
    "    a=eval(\"a+1\") #using eval to mandrake the interpreter, first evaluates the expression using the external a and then binds the local a to the resulting object\n",
    "    print(\"a_local=\",a)\n",
    "    print(\"eval(a_local)=\",eval(\"a\")) #now eval evaluates the local a =O\n",
    "f1_eval()\n",
    "print(\"a_externo=\",a)\n",
    "\n",
    "def f2():\n",
    "    a+=1 #calls iadd    \n",
    "    print()\n",
    "#f2() local variable 'a' referenced before assignment\n",
    "print(\"a_externo=\",a)\n",
    "\n",
    "\n",
    "\n",
    "def f3():\n",
    "    a=a.__add__(1)\n",
    "    print(\"a_local=\",a)\n",
    "#f3() local variable 'a' referenced before assignment\n",
    "print(\"a_externo=\",a)\n",
    "\n",
    "def f3_eval():\n",
    "    a=eval(\"a\").__add__(1) #eval succesfully gets the external object\n",
    "    print(\"a_local=\",a)\n",
    "f3_eval() #local variable 'a' referenced before assignment\n",
    "print(\"a_externo=\",a)\n",
    "\n",
    "def f4():\n",
    "    a=a.__iadd__(1)\n",
    "    print()\n",
    "#f4() local variable 'a' referenced before assignment\n",
    "print(\"a_externo=\",a)"
   ]
  },
  {
   "cell_type": "code",
   "execution_count": 45,
   "metadata": {},
   "outputs": [
    {
     "name": "stdout",
     "output_type": "stream",
     "text": [
      "[1]\n",
      "[1]\n",
      "[1]\n",
      "[1]\n",
      "\n",
      "[1, 1]\n",
      "\n",
      "[1, 1, 1]\n"
     ]
    }
   ],
   "source": [
    "%reset -f\n",
    "a=[1]\n",
    "\n",
    "def f1():\n",
    "    a=a+[1] #calls add\n",
    "    print(a)\n",
    "# f1() #local variable 'a' referenced before assignment\n",
    "print(a)\n",
    "\n",
    "def f2():\n",
    "    a+=[1] #calls iadd    \n",
    "    print()\n",
    "# f2() #local variable 'a' referenced before assignment\n",
    "print(a)\n",
    "\n",
    "\n",
    "\n",
    "def f3():\n",
    "    a=a.__add__([1])\n",
    "    print(a)\n",
    "# f3() #local variable 'a' referenced before assignment\n",
    "print(a)\n",
    "\n",
    "def f4():\n",
    "    a=a.__iadd__([1])\n",
    "    print()\n",
    "# f4() #local variable 'a' referenced before assignment\n",
    "print(a)\n",
    "\n",
    "def f5():\n",
    "    a.append(1) #não tem \"=\" então não faz a checagem de nome local vs nome externo\n",
    "    print()\n",
    "f5()\n",
    "print(a)\n",
    "\n",
    "def f6():\n",
    "    a.extend([1]) #não tem \"=\" então não faz a checagem de nome local vs nome externo\n",
    "    print()\n",
    "f6()\n",
    "print(a)"
   ]
  },
  {
   "cell_type": "code",
   "execution_count": null,
   "metadata": {},
   "outputs": [],
   "source": []
  }
 ],
 "metadata": {
  "kernelspec": {
   "display_name": "Python [default]",
   "language": "python",
   "name": "python3"
  },
  "language_info": {
   "codemirror_mode": {
    "name": "ipython",
    "version": 3
   },
   "file_extension": ".py",
   "mimetype": "text/x-python",
   "name": "python",
   "nbconvert_exporter": "python",
   "pygments_lexer": "ipython3",
   "version": "3.6.3"
  }
 },
 "nbformat": 4,
 "nbformat_minor": 2
}
